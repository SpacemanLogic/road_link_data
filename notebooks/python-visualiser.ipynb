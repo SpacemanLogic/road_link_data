# data_visualisation.ipynb

import psycopg2
import matplotlib.pyplot as plt

# Connect to the database
conn = psycopg2.connect(
    dbname="roadlinks-db",
    user="postgres",
    password="postgres",
    host="postgres",
    port="5432"
)

# Create a cursor
cur = conn.cursor()

# Example visualisation: Number of road links per direction
cur.execute("SELECT direction, COUNT(*) FROM road_links GROUP BY direction")
data = cur.fetchall()
directions, counts = zip(*data)
plt.bar(directions, counts)
plt.xlabel("Direction")
plt.ylabel("Count")
plt.title("Number of Road Links per Direction")
plt.show()

# Close the cursor and connection
cur.close()
conn.close()
